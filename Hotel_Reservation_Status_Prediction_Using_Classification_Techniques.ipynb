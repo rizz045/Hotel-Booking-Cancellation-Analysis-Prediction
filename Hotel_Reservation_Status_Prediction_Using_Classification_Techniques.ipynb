{
  "nbformat": 4,
  "nbformat_minor": 0,
  "metadata": {
    "colab": {
      "provenance": []
    },
    "kernelspec": {
      "name": "python3",
      "display_name": "Python 3"
    },
    "language_info": {
      "name": "python"
    }
  },
  "cells": [
    {
      "cell_type": "markdown",
      "source": [
        "**Column Details:**\n"
      ],
      "metadata": {
        "id": "KiSjMm4Iq1R3"
      }
    },
    {
      "cell_type": "code",
      "execution_count": 1,
      "metadata": {
        "id": "28HtSgVgqhCZ"
      },
      "outputs": [],
      "source": [
        "import pandas as pd\n",
        "import seaborn as sns\n",
        "import matplotlib.pyplot as plt\n",
        "import numpy as np"
      ]
    },
    {
      "cell_type": "code",
      "source": [
        "df = pd.read_csv(\"\")"
      ],
      "metadata": {
        "id": "trNGF_vqq0gP"
      },
      "execution_count": null,
      "outputs": []
    }
  ]
}